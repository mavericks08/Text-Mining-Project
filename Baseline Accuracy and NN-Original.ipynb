{
 "cells": [
  {
   "cell_type": "markdown",
   "metadata": {},
   "source": [
    "# Baseline Accuracies and Neural Networks\n",
    "\n",
    "This notebook would explore two domains for the project. \n",
    "\n",
    "### Baseline Accuracies\n",
    "Due to the small sample size of records, there's alot of variance in the accuracies obtained from our classifier predictions. A manual cross-validation would show the min, max and average accuracies over 10 folds.\n",
    "\n",
    "### Neural Networks\n",
    "After which, we would apply neural network models and evaluate its performance."
   ]
  },
  {
   "cell_type": "code",
   "execution_count": 14,
   "metadata": {},
   "outputs": [],
   "source": [
    "# this cell imports all required libraries\n",
    "\n",
    "from nltk.tokenize import word_tokenize # NLTK default tokenizer\n",
    "from sklearn import model_selection, preprocessing, linear_model, naive_bayes, metrics, svm\n",
    "import pandas as pd\n",
    "import numpy as np\n",
    "from sklearn.feature_extraction.text import TfidfVectorizer, CountVectorizer\n",
    "from sklearn.metrics import accuracy_score, precision_score, recall_score, f1_score\n",
    "from statistics import mean \n",
    "from keras.preprocessing.text import Tokenizer\n",
    "from keras.preprocessing.text import one_hot\n",
    "\n",
    "from numpy import array\n",
    "from keras.preprocessing.text import one_hot\n",
    "from keras.preprocessing.sequence import pad_sequences\n",
    "from keras.models import Sequential\n",
    "from keras.layers.embeddings import Embedding\n",
    "from keras.layers import Embedding, Flatten, Dense, SimpleRNN\n",
    "from keras import optimizers\n",
    "from keras.preprocessing import sequence"
   ]
  },
  {
   "cell_type": "code",
   "execution_count": 7,
   "metadata": {},
   "outputs": [],
   "source": [
    "# In another jupyter notebook, an excel spreadsheet with the processed corpus had been saved. \n",
    "# This cell reads the spreadsheet and saves the data into lists.\n",
    "\n",
    "testdf = pd.read_excel('processedfeaturesDF.xlsx')\n",
    "\n",
    "class_labels=[]\n",
    "class_labels=(testdf['class_labels'])\n",
    "\n",
    "# Plain Vanilla corpus was saved under processedfeatures10\n",
    "plainvanilla=[]\n",
    "plainvanilla=(testdf['processed_features10'])\n",
    "\n",
    "# Best pre-processed results was with normalization, wordlist and stopwords, i.e. processedfeatures3\n",
    "processed_features3=[]\n",
    "processed_features3=(testdf['processed_features3'])"
   ]
  },
  {
   "cell_type": "code",
   "execution_count": 8,
   "metadata": {},
   "outputs": [
    {
     "name": "stdout",
     "output_type": "stream",
     "text": [
      "The maximum number of words is:  6962\n",
      "The minimum number of words is:  141\n",
      "The average number of words is:  2510.6750483558994\n"
     ]
    }
   ],
   "source": [
    "# Just finding out statistics of the number of words in the processed dataset.\n",
    "processed_features10=[]\n",
    "processed_features10=(testdf['processed_features10'])\n",
    "\n",
    "countlist=[]\n",
    "\n",
    "for i in range(0,len(processed_features10)):\n",
    "    countlist.append(len(word_tokenize(processed_features10[i])))\n",
    "\n",
    "print('The maximum number of words is: ',max(countlist))\n",
    "print('The minimum number of words is: ',min(countlist))\n",
    "print('The average number of words is: ',mean(countlist))"
   ]
  },
  {
   "cell_type": "markdown",
   "metadata": {},
   "source": [
    "### Baseline Accuracies"
   ]
  },
  {
   "cell_type": "code",
   "execution_count": 10,
   "metadata": {},
   "outputs": [
    {
     "name": "stdout",
     "output_type": "stream",
     "text": [
      "Accuracies Collected:  [0.7413127413127413, 0.7142857142857143, 0.7413127413127413, 0.7258687258687259, 0.7142857142857143, 0.6795366795366795, 0.6872586872586872, 0.7065637065637066, 0.7181467181467182, 0.7181467181467182]\n",
      "The minimum accuracy is:  0.6795366795366795\n",
      "The maximum accuracy is:  0.7413127413127413\n",
      "The average is:  0.7146718146718146\n"
     ]
    }
   ],
   "source": [
    "# baseline accuracy for plainvanilla corpus (i.e. no preprocessing done)\n",
    "# manual cross-validation 10x:\n",
    "\n",
    "plainvanilla_accuracy_collection=[]\n",
    "for i in range(0,10):\n",
    "    train_x, valid_x, train_y, valid_y = model_selection.train_test_split(plainvanilla,class_labels)\n",
    "\n",
    "    # word level\n",
    "    vectorizer=TfidfVectorizer(analyzer='word', token_pattern=r'\\w{1,}')\n",
    "\n",
    "    # classifier\n",
    "    classifier=svm.SVC(gamma='scale')\n",
    "\n",
    "    train_vectors = vectorizer.fit_transform(train_x)\n",
    "    test_vectors = vectorizer.transform(valid_x)\n",
    "\n",
    "    classifier.fit(train_vectors,train_y)\n",
    "    prediction=classifier.predict(test_vectors)\n",
    "\n",
    "    plainvanilla_accuracy_collection.append(accuracy_score(valid_y,prediction))\n",
    "    \n",
    "print('Accuracies Collected: ', plainvanilla_accuracy_collection)\n",
    "print('The minimum accuracy is: ',min(plainvanilla_accuracy_collection))\n",
    "print('The maximum accuracy is: ',max(plainvanilla_accuracy_collection))\n",
    "print('The average is: ',mean(plainvanilla_accuracy_collection))"
   ]
  },
  {
   "cell_type": "code",
   "execution_count": 11,
   "metadata": {},
   "outputs": [
    {
     "name": "stdout",
     "output_type": "stream",
     "text": [
      "Accuracies Collected:  [0.7683397683397684, 0.7760617760617761, 0.7644787644787645, 0.7876447876447876, 0.7722007722007722, 0.7876447876447876, 0.7876447876447876, 0.8262548262548263, 0.7413127413127413, 0.806949806949807]\n",
      "The minimum accuracy is:  0.7413127413127413\n",
      "The maximum accuracy is:  0.8262548262548263\n",
      "The average is:  0.7818532818532818\n"
     ]
    }
   ],
   "source": [
    "# baseline accuracy for processed_features3 (i.e. normalized, wordlist and stopwords removed)\n",
    "# manual cross-validation 10x:\n",
    "\n",
    "pf3_accuracy_collection=[]\n",
    "for i in range(0,10):\n",
    "    train_x, valid_x, train_y, valid_y = model_selection.train_test_split(processed_features3,class_labels)\n",
    "\n",
    "    # word level\n",
    "    vectorizer=TfidfVectorizer(analyzer='word', token_pattern=r'\\w{1,}')\n",
    "\n",
    "    # classifier\n",
    "    classifier=svm.SVC(gamma='scale')\n",
    "\n",
    "    train_vectors = vectorizer.fit_transform(train_x)\n",
    "    test_vectors = vectorizer.transform(valid_x)\n",
    "\n",
    "    classifier.fit(train_vectors,train_y)\n",
    "    prediction=classifier.predict(test_vectors)\n",
    "\n",
    "    pf3_accuracy_collection.append(accuracy_score(valid_y,prediction))\n",
    "    \n",
    "print('Accuracies Collected: ', pf3_accuracy_collection)\n",
    "print('The minimum accuracy is: ',min(pf3_accuracy_collection))\n",
    "print('The maximum accuracy is: ',max(pf3_accuracy_collection))\n",
    "print('The average is: ',mean(pf3_accuracy_collection))"
   ]
  },
  {
   "cell_type": "markdown",
   "metadata": {},
   "source": [
    "# Applying Neural Networks on the Dataset"
   ]
  },
  {
   "cell_type": "code",
   "execution_count": 9,
   "metadata": {},
   "outputs": [],
   "source": [
    "# 'integerize' each class label\n",
    "labels_CSD_int=[]\n",
    "for i in range(0,len(class_labels)):\n",
    "    if class_labels[i] == 'culture':\n",
    "        labels_CSD_int.append(0)\n",
    "    if class_labels[i] == 'science':\n",
    "        labels_CSD_int.append(1)\n",
    "    if class_labels[i] == 'design':\n",
    "        labels_CSD_int.append(2)"
   ]
  },
  {
   "cell_type": "code",
   "execution_count": 10,
   "metadata": {},
   "outputs": [
    {
     "data": {
      "text/plain": [
       "3058"
      ]
     },
     "execution_count": 10,
     "metadata": {},
     "output_type": "execute_result"
    }
   ],
   "source": [
    "#finding out what is the max document size, so we know how much to pad..\n",
    "\n",
    "from nltk.tokenize import word_tokenize # NLTK default tokenizer\n",
    "\n",
    "len(processed_features3)\n",
    "max_length = 0\n",
    "for i in range(0,len(processed_features3)):\n",
    "    words=word_tokenize(processed_features3[i])\n",
    "    no_of_words=len(words)\n",
    "    if no_of_words>max_length:\n",
    "        max_length=no_of_words\n",
    "max_length"
   ]
  },
  {
   "cell_type": "code",
   "execution_count": 12,
   "metadata": {},
   "outputs": [
    {
     "name": "stdout",
     "output_type": "stream",
     "text": [
      "\n",
      "Model Summary\n",
      "Model: \"sequential_2\"\n",
      "_________________________________________________________________\n",
      "Layer (type)                 Output Shape              Param #   \n",
      "=================================================================\n",
      "embedding_2 (Embedding)      (None, 3058, 8)           4000      \n",
      "_________________________________________________________________\n",
      "flatten_2 (Flatten)          (None, 24464)             0         \n",
      "_________________________________________________________________\n",
      "dense_2 (Dense)              (None, 1)                 24465     \n",
      "=================================================================\n",
      "Total params: 28,465\n",
      "Trainable params: 28,465\n",
      "Non-trainable params: 0\n",
      "_________________________________________________________________\n",
      "None\n"
     ]
    },
    {
     "name": "stderr",
     "output_type": "stream",
     "text": [
      "C:\\Users\\melvi\\Anaconda3\\lib\\site-packages\\tensorflow_core\\python\\framework\\indexed_slices.py:424: UserWarning: Converting sparse IndexedSlices to a dense Tensor of unknown shape. This may consume a large amount of memory.\n",
      "  \"Converting sparse IndexedSlices to a dense Tensor of unknown shape. \"\n"
     ]
    },
    {
     "name": "stdout",
     "output_type": "stream",
     "text": [
      "\n",
      "Accuracy: 35.009670\n"
     ]
    }
   ],
   "source": [
    "# without LSTM or RNN layers\n",
    "\n",
    "docs = processed_features3\n",
    "\n",
    "labels = labels_CSD_int\n",
    "\n",
    "vocab_size = 500 # there's about 58K unique words in the corpus\n",
    "encoded_docs = [one_hot(d, vocab_size) for d in docs] \n",
    "\n",
    "max_length = 3058 # this is the maximum number of words in all docs\n",
    "\n",
    "padded_docs = pad_sequences(encoded_docs, maxlen=max_length, padding='post')\n",
    "\n",
    "model=Sequential()\n",
    "# set embedding output dimension size = 8, input length is the length of each document\n",
    "# embedding layer provides a relation of the inputs in additional dimensions\n",
    "model.add(Embedding(vocab_size,8,input_length=max_length))\n",
    "model.add(Flatten())\n",
    "model.add(Dense(1,activation='sigmoid'))\n",
    "\n",
    "model.compile(optimizer='adam',loss='binary_crossentropy',metrics=['acc'])\n",
    "\n",
    "# summarize the model\n",
    "print('\\nModel Summary')\n",
    "print(model.summary())\n",
    "\n",
    "# fit the model using 'vectorized inputs => padded_docs'\n",
    "model.fit(padded_docs, labels, epochs=50, verbose=0)\n",
    "\n",
    "# evaluate the model\n",
    "loss, accuracy = model.evaluate(padded_docs, labels, verbose=0)\n",
    "print('\\nAccuracy: %f' % (accuracy*100))"
   ]
  },
  {
   "cell_type": "code",
   "execution_count": 15,
   "metadata": {},
   "outputs": [
    {
     "name": "stdout",
     "output_type": "stream",
     "text": [
      "Loading data...\n",
      "775 train_sequences\n",
      "259 test_sequences\n",
      "Pad sequences\n",
      "input_train shape: (775, 3058)\n",
      "input_test shape: (259, 3058)\n"
     ]
    }
   ],
   "source": [
    "\n",
    "max_features = 1000  # number of words to consider as features\n",
    "maxlen = 3058 # max len of document\n",
    "\n",
    "print('Loading data...')\n",
    "train_x, valid_x, train_y, valid_y = model_selection.train_test_split(encoded_docs,labels_CSD_int)\n",
    "print(len(train_x), 'train_sequences') # number of sequences for training in dataset\n",
    "print(len(valid_x), 'test_sequences') # number of sequences for testing in dataset\n",
    "\n",
    "print('Pad sequences')\n",
    "input_train = sequence.pad_sequences(train_x, maxlen=maxlen)\n",
    "input_test = sequence.pad_sequences(valid_x, maxlen=maxlen)\n",
    "print('input_train shape:', input_train.shape)\n",
    "print('input_test shape:', input_test.shape)\n",
    "\n",
    "# Our vectorized labels\n",
    "y_train = np.asarray(train_y).astype('float32')\n",
    "y_test = np.asarray(valid_y).astype('float32')\n"
   ]
  },
  {
   "cell_type": "code",
   "execution_count": 233,
   "metadata": {},
   "outputs": [
    {
     "name": "stdout",
     "output_type": "stream",
     "text": [
      "Model: \"sequential_80\"\n",
      "_________________________________________________________________\n",
      "Layer (type)                 Output Shape              Param #   \n",
      "=================================================================\n",
      "embedding_58 (Embedding)     (None, None, 8)           8000      \n",
      "_________________________________________________________________\n",
      "simple_rnn_28 (SimpleRNN)    (None, 8)                 136       \n",
      "_________________________________________________________________\n",
      "dense_101 (Dense)            (None, 1)                 9         \n",
      "=================================================================\n",
      "Total params: 8,145\n",
      "Trainable params: 8,145\n",
      "Non-trainable params: 0\n",
      "_________________________________________________________________\n",
      "None\n"
     ]
    },
    {
     "name": "stderr",
     "output_type": "stream",
     "text": [
      "C:\\Users\\melvi\\Anaconda3\\lib\\site-packages\\tensorflow_core\\python\\framework\\indexed_slices.py:424: UserWarning: Converting sparse IndexedSlices to a dense Tensor of unknown shape. This may consume a large amount of memory.\n",
      "  \"Converting sparse IndexedSlices to a dense Tensor of unknown shape. \"\n"
     ]
    },
    {
     "name": "stdout",
     "output_type": "stream",
     "text": [
      "Train on 620 samples, validate on 155 samples\n",
      "Epoch 1/15\n",
      "620/620 [==============================] - 9s 14ms/step - loss: 0.6888 - acc: 0.3129 - val_loss: 0.6769 - val_acc: 0.3355\n",
      "Epoch 2/15\n",
      "620/620 [==============================] - 8s 14ms/step - loss: 0.6190 - acc: 0.3726 - val_loss: 0.6679 - val_acc: 0.3226\n",
      "Epoch 3/15\n",
      "620/620 [==============================] - 9s 14ms/step - loss: 0.5653 - acc: 0.3968 - val_loss: 0.6660 - val_acc: 0.3355\n",
      "Epoch 4/15\n",
      "620/620 [==============================] - 9s 14ms/step - loss: 0.5089 - acc: 0.4081 - val_loss: 0.6677 - val_acc: 0.3290\n",
      "Epoch 5/15\n",
      "620/620 [==============================] - 9s 15ms/step - loss: 0.4543 - acc: 0.4371 - val_loss: 0.6506 - val_acc: 0.3226\n",
      "Epoch 6/15\n",
      "620/620 [==============================] - 10s 15ms/step - loss: 0.4099 - acc: 0.4339 - val_loss: 0.6511 - val_acc: 0.3161\n",
      "Epoch 7/15\n",
      "620/620 [==============================] - 10s 16ms/step - loss: 0.3623 - acc: 0.4339 - val_loss: 0.6399 - val_acc: 0.3290\n",
      "Epoch 8/15\n",
      "620/620 [==============================] - 11s 17ms/step - loss: 0.3353 - acc: 0.4484 - val_loss: 0.6409 - val_acc: 0.3032\n",
      "Epoch 9/15\n",
      "620/620 [==============================] - 10s 16ms/step - loss: 0.2917 - acc: 0.4516 - val_loss: 0.6511 - val_acc: 0.3161\n",
      "Epoch 10/15\n",
      "620/620 [==============================] - 10s 16ms/step - loss: 0.2489 - acc: 0.4710 - val_loss: 0.6558 - val_acc: 0.3355\n",
      "Epoch 11/15\n",
      "620/620 [==============================] - 10s 16ms/step - loss: 0.2157 - acc: 0.4774 - val_loss: 0.6538 - val_acc: 0.3097\n",
      "Epoch 12/15\n",
      "620/620 [==============================] - 10s 16ms/step - loss: 0.1821 - acc: 0.4855 - val_loss: 0.6520 - val_acc: 0.3548\n",
      "Epoch 13/15\n",
      "620/620 [==============================] - 9s 15ms/step - loss: 0.1652 - acc: 0.4984 - val_loss: 0.6333 - val_acc: 0.2968\n",
      "Epoch 14/15\n",
      "620/620 [==============================] - 9s 15ms/step - loss: 0.1290 - acc: 0.4984 - val_loss: 0.6574 - val_acc: 0.3032\n",
      "Epoch 15/15\n",
      "620/620 [==============================] - 9s 15ms/step - loss: 0.0934 - acc: 0.5097 - val_loss: 0.6768 - val_acc: 0.3161\n"
     ]
    }
   ],
   "source": [
    "model = Sequential()\n",
    "model.add(Embedding(max_features, 8))      # vocabulary=max_features, output_dim=16\n",
    "model.add(SimpleRNN(8))\n",
    "model.add(Dense(1, activation='sigmoid'))\n",
    "print(model.summary())\n",
    "\n",
    "\n",
    "model.compile(optimizer='rmsprop', loss='binary_crossentropy', metrics=['acc'])\n",
    "\n",
    "history = model.fit(input_train, y_train,\n",
    "                    epochs=15,\n",
    "                    batch_size=128,\n",
    "                    validation_split=0.2)"
   ]
  },
  {
   "cell_type": "code",
   "execution_count": 234,
   "metadata": {},
   "outputs": [
    {
     "data": {
      "image/png": "[encoded data removed]",
      "text/plain": [
       "<Figure size 432x288 with 1 Axes>"
      ]
     },
     "metadata": {
      "needs_background": "light"
     },
     "output_type": "display_data"
    },
    {
     "data": {
      "image/png": "[encoded data removed]",
      "text/plain": [
       "<Figure size 432x288 with 1 Axes>"
      ]
     },
     "metadata": {
      "needs_background": "light"
     },
     "output_type": "display_data"
    }
   ],
   "source": [
    "### Plotting results\n",
    "\n",
    "import matplotlib.pyplot as plt\n",
    "\n",
    "acc = history.history['acc']\n",
    "val_acc = history.history['val_acc']\n",
    "loss = history.history['loss']\n",
    "val_loss = history.history['val_loss']\n",
    "\n",
    "epochs = range(1, len(acc) + 1)\n",
    "\n",
    "plt.plot(epochs, acc, 'bo', label='Training acc')  # bo => blue circle line\n",
    "plt.plot(epochs, val_acc, 'b', label='Validation acc')  # b => blue line\n",
    "\n",
    "plt.title('Training and validation accuracy')\n",
    "plt.legend()\n",
    "\n",
    "plt.figure()\n",
    "\n",
    "plt.plot(epochs, loss, 'bo', label='Training loss')\n",
    "plt.plot(epochs, val_loss, 'b', label='Validation loss')\n",
    "plt.title('Training and validation loss')\n",
    "plt.legend()\n",
    "\n",
    "plt.show()\n"
   ]
  },
  {
   "cell_type": "code",
   "execution_count": 251,
   "metadata": {},
   "outputs": [
    {
     "name": "stdout",
     "output_type": "stream",
     "text": [
      "Model: \"sequential_91\"\n",
      "_________________________________________________________________\n",
      "Layer (type)                 Output Shape              Param #   \n",
      "=================================================================\n",
      "embedding_69 (Embedding)     (None, None, 8)           8000      \n",
      "_________________________________________________________________\n",
      "lstm_13 (LSTM)               (None, 8)                 544       \n",
      "_________________________________________________________________\n",
      "dense_112 (Dense)            (None, 1)                 9         \n",
      "=================================================================\n",
      "Total params: 8,553\n",
      "Trainable params: 8,553\n",
      "Non-trainable params: 0\n",
      "_________________________________________________________________\n",
      "None\n"
     ]
    },
    {
     "name": "stderr",
     "output_type": "stream",
     "text": [
      "C:\\Users\\melvi\\Anaconda3\\lib\\site-packages\\tensorflow_core\\python\\framework\\indexed_slices.py:424: UserWarning: Converting sparse IndexedSlices to a dense Tensor of unknown shape. This may consume a large amount of memory.\n",
      "  \"Converting sparse IndexedSlices to a dense Tensor of unknown shape. \"\n"
     ]
    },
    {
     "name": "stdout",
     "output_type": "stream",
     "text": [
      "Train on 620 samples, validate on 155 samples\n",
      "Epoch 1/15\n",
      "620/620 [==============================] - 15s 25ms/step - loss: 0.6771 - acc: 0.3323 - val_loss: 0.6601 - val_acc: 0.2774\n",
      "Epoch 2/15\n",
      "620/620 [==============================] - 16s 26ms/step - loss: 0.6456 - acc: 0.3419 - val_loss: 0.6314 - val_acc: 0.2774\n",
      "Epoch 3/15\n",
      "620/620 [==============================] - 17s 27ms/step - loss: 0.6121 - acc: 0.3419 - val_loss: 0.5969 - val_acc: 0.2774\n",
      "Epoch 4/15\n",
      "620/620 [==============================] - 17s 28ms/step - loss: 0.5703 - acc: 0.3419 - val_loss: 0.5522 - val_acc: 0.2774\n",
      "Epoch 5/15\n",
      "620/620 [==============================] - 17s 28ms/step - loss: 0.5135 - acc: 0.3419 - val_loss: 0.4884 - val_acc: 0.2774\n",
      "Epoch 6/15\n",
      "620/620 [==============================] - 17s 27ms/step - loss: 0.4317 - acc: 0.3419 - val_loss: 0.4017 - val_acc: 0.2774\n",
      "Epoch 7/15\n",
      "620/620 [==============================] - 17s 28ms/step - loss: 0.3380 - acc: 0.3419 - val_loss: 0.3260 - val_acc: 0.2774\n",
      "Epoch 8/15\n",
      "620/620 [==============================] - 17s 28ms/step - loss: 0.2590 - acc: 0.3419 - val_loss: 0.2667 - val_acc: 0.2774\n",
      "Epoch 9/15\n",
      "620/620 [==============================] - 17s 28ms/step - loss: 0.2000 - acc: 0.3419 - val_loss: 0.2248 - val_acc: 0.2774\n",
      "Epoch 10/15\n",
      "620/620 [==============================] - 17s 27ms/step - loss: 0.1549 - acc: 0.3419 - val_loss: 0.1944 - val_acc: 0.2774\n",
      "Epoch 11/15\n",
      "620/620 [==============================] - 17s 27ms/step - loss: 0.1232 - acc: 0.3419 - val_loss: 0.1733 - val_acc: 0.2774\n",
      "Epoch 12/15\n",
      "620/620 [==============================] - 16s 26ms/step - loss: 0.0996 - acc: 0.3419 - val_loss: 0.1563 - val_acc: 0.2774\n",
      "Epoch 13/15\n",
      "620/620 [==============================] - 16s 26ms/step - loss: 0.0784 - acc: 0.3419 - val_loss: 0.1427 - val_acc: 0.2774\n",
      "Epoch 14/15\n",
      "620/620 [==============================] - 17s 27ms/step - loss: 0.0615 - acc: 0.3419 - val_loss: 0.1311 - val_acc: 0.2774\n",
      "Epoch 15/15\n",
      "620/620 [==============================] - 16s 27ms/step - loss: 0.0460 - acc: 0.3419 - val_loss: 0.1216 - val_acc: 0.2774\n"
     ]
    }
   ],
   "source": [
    "# LSTM\n",
    "\n",
    "max_features = 1000  # number of words to consider as features\n",
    "\n",
    "from keras.layers import LSTM\n",
    "\n",
    "model = Sequential()\n",
    "model.add(Embedding(max_features, 8))\n",
    "model.add(LSTM(8))\n",
    "model.add(Dense(1, activation='sigmoid'))\n",
    "print(model.summary())\n",
    "\n",
    "\n",
    "model.compile(optimizer='rmsprop',\n",
    "              loss='binary_crossentropy',\n",
    "              metrics=['acc'])\n",
    "\n",
    "history = model.fit(input_train, y_train,\n",
    "                    epochs=15,\n",
    "                    batch_size=128,\n",
    "                    validation_split=0.2)"
   ]
  },
  {
   "cell_type": "code",
   "execution_count": 252,
   "metadata": {},
   "outputs": [
    {
     "data": {
      "image/png": "[encoded data removed]",
      "text/plain": [
       "<Figure size 432x288 with 1 Axes>"
      ]
     },
     "metadata": {
      "needs_background": "light"
     },
     "output_type": "display_data"
    },
    {
     "data": {
      "image/png": "[encoded data removed]",
      "text/plain": [
       "<Figure size 432x288 with 1 Axes>"
      ]
     },
     "metadata": {
      "needs_background": "light"
     },
     "output_type": "display_data"
    }
   ],
   "source": [
    "### Plot LSTM results\n",
    "\n",
    "import matplotlib.pyplot as plt\n",
    "\n",
    "acc = history.history['acc']\n",
    "val_acc = history.history['val_acc']\n",
    "loss = history.history['loss']\n",
    "val_loss = history.history['val_loss']\n",
    "\n",
    "epochs = range(len(acc))\n",
    "\n",
    "plt.plot(epochs, acc, 'bo', label='Training acc')\n",
    "plt.plot(epochs, val_acc, 'b', label='Validation acc')\n",
    "plt.title('Training and validation accuracy')\n",
    "plt.legend()\n",
    "\n",
    "plt.figure()\n",
    "\n",
    "plt.plot(epochs, loss, 'bo', label='Training loss')\n",
    "plt.plot(epochs, val_loss, 'b', label='Validation loss')\n",
    "plt.title('Training and validation loss')\n",
    "plt.legend()\n",
    "\n",
    "plt.show()\n",
    "\n",
    "### note the better performance for LSTM"
   ]
  }
 ],
 "metadata": {
  "kernelspec": {
   "display_name": "Python 3",
   "language": "python",
   "name": "python3"
  },
  "language_info": {
   "codemirror_mode": {
    "name": "ipython",
    "version": 3
   },
   "file_extension": ".py",
   "mimetype": "text/x-python",
   "name": "python",
   "nbconvert_exporter": "python",
   "pygments_lexer": "ipython3",
   "version": "3.7.3"
  }
 },
 "nbformat": 4,
 "nbformat_minor": 2
}
